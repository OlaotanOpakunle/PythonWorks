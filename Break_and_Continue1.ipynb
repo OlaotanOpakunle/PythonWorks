{
  "nbformat": 4,
  "nbformat_minor": 0,
  "metadata": {
    "colab": {
      "provenance": [],
      "authorship_tag": "ABX9TyOMNJUjVFg5pTWIxFhqc8QV",
      "include_colab_link": true
    },
    "kernelspec": {
      "name": "python3",
      "display_name": "Python 3"
    },
    "language_info": {
      "name": "python"
    }
  },
  "cells": [
    {
      "cell_type": "markdown",
      "metadata": {
        "id": "view-in-github",
        "colab_type": "text"
      },
      "source": [
        "<a href=\"https://colab.research.google.com/github/OlaotanOpakunle/PythonWorks/blob/master/Break_and_Continue1.ipynb\" target=\"_parent\"><img src=\"https://colab.research.google.com/assets/colab-badge.svg\" alt=\"Open In Colab\"/></a>"
      ]
    },
    {
      "cell_type": "code",
      "execution_count": null,
      "metadata": {
        "id": "UXkw2vIUiMRX"
      },
      "outputs": [],
      "source": [
        "greetings = [\"hey\", \"hello\", \"stop\", \"what\\'s up\", \"let me tell you a story, are you ready?\", \"hey there\", \"what\\'s new?\"]"
      ]
    },
    {
      "cell_type": "code",
      "source": [
        "for greeting in greetings:\n",
        "  if greeting == \"stop\":\n",
        "    break\n",
        "  else:\n",
        "    print(greeting)"
      ],
      "metadata": {
        "colab": {
          "base_uri": "https://localhost:8080/"
        },
        "id": "WMM-n3lsjhPa",
        "outputId": "ad7edefd-683d-413f-a8f7-7cedb3f8a7de"
      },
      "execution_count": null,
      "outputs": [
        {
          "output_type": "stream",
          "name": "stdout",
          "text": [
            "hey\n",
            "hello\n"
          ]
        }
      ]
    },
    {
      "cell_type": "code",
      "source": [
        "for greeting in greetings:\n",
        "  if len(greeting) > 11:\n",
        "    continue\n",
        "  else:\n",
        "    print(greeting)"
      ],
      "metadata": {
        "colab": {
          "base_uri": "https://localhost:8080/"
        },
        "id": "585OtmE_kRnE",
        "outputId": "d74c7985-bf13-4934-dcb1-a43736236cbe"
      },
      "execution_count": null,
      "outputs": [
        {
          "output_type": "stream",
          "name": "stdout",
          "text": [
            "hey\n",
            "hello\n",
            "stop\n",
            "what's up\n",
            "hey there\n",
            "what's new?\n"
          ]
        }
      ]
    },
    {
      "cell_type": "code",
      "source": [],
      "metadata": {
        "id": "CfXyVk4elECZ"
      },
      "execution_count": null,
      "outputs": []
    }
  ]
}